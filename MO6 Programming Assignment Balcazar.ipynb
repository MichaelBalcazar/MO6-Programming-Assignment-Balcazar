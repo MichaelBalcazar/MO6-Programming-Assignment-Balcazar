{
 "cells": [
  {
   "cell_type": "markdown",
   "id": "28f30c87-1cc9-4548-b4ef-98726d315c86",
   "metadata": {},
   "source": [
    "13.1 Write the current date as a string to the text file today.txt."
   ]
  },
  {
   "cell_type": "code",
   "execution_count": null,
   "id": "292034f7-86c0-4dc8-9dcb-7154ca2fe9b8",
   "metadata": {},
   "outputs": [],
   "source": [
    "from datetime import date\n",
    "\n",
    "# Get the current date\n",
    "current_date = date.today()\n",
    "\n",
    "# Convert date to string format\n",
    "date_string = current_date.strftime(\"%Y-%m-%d\")  # Format as YYYY-MM-DD\n",
    "\n",
    "# Write the date string to the file\n",
    "with open('today.txt', 'w') as file:\n",
    "    file.write(date_string)\n"
   ]
  },
  {
   "cell_type": "markdown",
   "id": "104d08dc-fe3b-4e4d-992c-f40ae39450f6",
   "metadata": {},
   "source": [
    "13.2 Read the text file today.txt into the string today_string."
   ]
  },
  {
   "cell_type": "code",
   "execution_count": null,
   "id": "730b1ed0-a2e0-4665-b566-f5cc7bfa77a3",
   "metadata": {},
   "outputs": [],
   "source": [
    "# Read the contents of today.txt into today_string\n",
    "with open('today.txt', 'r') as file:\n",
    "    today_string = file.read().strip()\n",
    "\n",
    "# Print the contents of today_string to verify\n",
    "print(today_string)\n"
   ]
  },
  {
   "cell_type": "markdown",
   "id": "d4cd702a-ae36-4e0b-80c1-b12808447627",
   "metadata": {},
   "source": [
    "13.3 Parse the date from today_string."
   ]
  },
  {
   "cell_type": "code",
   "execution_count": null,
   "id": "2d93b8ca-52eb-4bf8-b577-bc63f17bcd25",
   "metadata": {},
   "outputs": [],
   "source": [
    "from datetime import datetime\n",
    "\n",
    "# Assuming today_string contains the date in the format YYYY-MM-DD\n",
    "today_string = \"2024-07-14\"  # Replace with your actual today_string read from file\n",
    "\n",
    "# Parse the date string into a datetime object\n",
    "parsed_date = datetime.strptime(today_string, \"%Y-%m-%d\")\n",
    "\n",
    "# Now you can work with parsed_date as a datetime object\n",
    "print(parsed_date)\n"
   ]
  },
  {
   "cell_type": "markdown",
   "id": "5706d38c-4cff-471f-83f0-91a4194addfa",
   "metadata": {},
   "source": [
    "15.1 Use multiprocessing to create three separate processes. Make each one wait a random number of seconds between zero and one, print the current time, and then exit."
   ]
  },
  {
   "cell_type": "code",
   "execution_count": null,
   "id": "a1667863-5c4d-44a4-a4a0-5801941fee4c",
   "metadata": {},
   "outputs": [],
   "source": [
    "import multiprocessing\n",
    "import random\n",
    "import time\n",
    "from datetime import datetime\n",
    "\n",
    "def process_function():\n",
    "    # Generate a random sleep time between 0 and 1 second\n",
    "    sleep_time = random.random()\n",
    "    \n",
    "    # Sleep for the random amount of time\n",
    "    time.sleep(sleep_time)\n",
    "    \n",
    "    # Get the current time\n",
    "    current_time = datetime.now().strftime(\"%H:%M:%S.%f\")\n",
    "    \n",
    "    # Print the current time\n",
    "    print(f\"Current time: {current_time}\")\n",
    "    \n",
    "    # Exit the process\n",
    "    print(\"Exiting process\")\n",
    "\n",
    "if __name__ == \"__main__\":\n",
    "    # Create three separate processes\n",
    "    processes = []\n",
    "    for _ in range(3):\n",
    "        process = multiprocessing.Process(target=process_function)\n",
    "        processes.append(process)\n",
    "        process.start()\n",
    "    \n",
    "    # Wait for all processes to finish\n",
    "    for process in processes:\n",
    "        process.join()\n"
   ]
  }
 ],
 "metadata": {
  "kernelspec": {
   "display_name": "Python 3 (ipykernel)",
   "language": "python",
   "name": "python3"
  },
  "language_info": {
   "codemirror_mode": {
    "name": "ipython",
    "version": 3
   },
   "file_extension": ".py",
   "mimetype": "text/x-python",
   "name": "python",
   "nbconvert_exporter": "python",
   "pygments_lexer": "ipython3",
   "version": "3.11.7"
  }
 },
 "nbformat": 4,
 "nbformat_minor": 5
}
